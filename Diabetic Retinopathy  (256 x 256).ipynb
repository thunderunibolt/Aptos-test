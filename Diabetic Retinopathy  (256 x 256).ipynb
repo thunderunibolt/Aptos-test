{
  "nbformat": 4,
  "nbformat_minor": 0,
  "metadata": {
    "colab": {
      "provenance": [],
      "machine_shape": "hm",
      "gpuType": "V28",
      "mount_file_id": "1Fc0DyfRnp3nA9PHz9OdMUxIdTir4t7Ld",
      "authorship_tag": "ABX9TyNlw7R7kfANRNS6i4Qx0Yhz",
      "include_colab_link": true
    },
    "kernelspec": {
      "name": "python3",
      "display_name": "Python 3"
    },
    "language_info": {
      "name": "python"
    },
    "accelerator": "TPU"
  },
  "cells": [
    {
      "cell_type": "markdown",
      "metadata": {
        "id": "view-in-github",
        "colab_type": "text"
      },
      "source": [
        "<a href=\"https://colab.research.google.com/github/thunderunibolt/Aptos-test/blob/main/Diabetic%20Retinopathy%20%20(256%20x%20256).ipynb\" target=\"_parent\"><img src=\"https://colab.research.google.com/assets/colab-badge.svg\" alt=\"Open In Colab\"/></a>"
      ]
    },
    {
      "cell_type": "code",
      "execution_count": null,
      "metadata": {
        "id": "H610LCBPCFUo"
      },
      "outputs": [],
      "source": [
        "# prompt: mount drive\n",
        "\n",
        "from google.colab import drive\n",
        "drive.mount('/content/drive')\n"
      ]
    },
    {
      "cell_type": "code",
      "source": [
        "import os\n",
        "import random\n",
        "import pandas as pd\n",
        "import numpy as np\n",
        "import matplotlib.pyplot as plt\n",
        "import cv2\n",
        "from tensorflow import keras\n",
        "import tensorflow as tf\n",
        "import keras.backend as K\n",
        "from tensorflow.keras.preprocessing.image import ImageDataGenerator\n",
        "from tensorflow.keras.models import Sequential\n",
        "from tensorflow.keras.layers import InputLayer, BatchNormalization, Dropout, Flatten, Dense, Activation, MaxPool2D, Conv2D\n",
        "from tensorflow.keras.layers import Conv2D, Dense, Flatten, Dropout, Activation\n",
        "from tensorflow.keras.layers import BatchNormalization, Reshape, MaxPooling2D, GlobalAveragePooling2D\n",
        "from tensorflow.keras.callbacks import EarlyStopping, ModelCheckpoint, ReduceLROnPlateau\n",
        "\n",
        "from PIL import Image\n",
        "from PIL import UnidentifiedImageError\n",
        "\n",
        "from sklearn.preprocessing import OneHotEncoder\n",
        "\n",
        "from sklearn.model_selection import train_test_split\n",
        "\n",
        "from sklearn.metrics import classification_report, confusion_matrix\n",
        "import itertools\n",
        "\n",
        "import warnings\n",
        "warnings.filterwarnings('ignore')"
      ],
      "metadata": {
        "id": "Qp0u-XATCaV9"
      },
      "execution_count": 1,
      "outputs": []
    },
    {
      "cell_type": "code",
      "source": [
        "Healthy = os.listdir('/content/drive/MyDrive/Original Images/archive/Healthy')\n",
        "Mild = os.listdir('/content/drive/MyDrive/Original Images/archive/Mild DR')\n",
        "Moderate = os.listdir('/content/drive/MyDrive/Original Images/archive/Moderate DR')\n",
        "Proliferate = os.listdir('/content/drive/MyDrive/Original Images/archive/Proliferate DR')\n",
        "Severe = os.listdir('/content/drive/MyDrive/Original Images/archive/Severe DR')"
      ],
      "metadata": {
        "id": "l_rY_GDHCork"
      },
      "execution_count": 5,
      "outputs": []
    },
    {
      "cell_type": "code",
      "source": [
        "img_w, img_h = 225, 225\n",
        "X = []\n",
        "y = []"
      ],
      "metadata": {
        "id": "Hlfy3vzWCdsc"
      },
      "execution_count": 2,
      "outputs": []
    },
    {
      "cell_type": "code",
      "source": [
        "for i in Healthy:\n",
        "    try:\n",
        "        img = Image.open(\"/content/drive/MyDrive/Original Images/archive/Healthy/\" + i).convert('RGB')\n",
        "        img = img.resize((img_w,img_h))\n",
        "        X.append(np.asarray(img))\n",
        "        y.append(0)\n",
        "    except UnidentifiedImageError:\n",
        "        pass"
      ],
      "metadata": {
        "id": "ZZSldHSOCfvn"
      },
      "execution_count": 6,
      "outputs": []
    },
    {
      "cell_type": "code",
      "source": [
        "for i in Mild:\n",
        "    try:\n",
        "        img = Image.open(\"/content/drive/MyDrive/Original Images/archive/Mild DR/\" + i).convert('RGB')\n",
        "        img = img.resize((img_w,img_h))\n",
        "        X.append(np.asarray(img))\n",
        "        y.append(1)\n",
        "    except UnidentifiedImageError:\n",
        "        pass"
      ],
      "metadata": {
        "id": "OLtKx-BwCwgo"
      },
      "execution_count": 8,
      "outputs": []
    },
    {
      "cell_type": "code",
      "source": [
        "for i in Moderate:\n",
        "    try:\n",
        "        img = Image.open(\"/content/drive/MyDrive/Original Images/archive/Moderate DR/\" + i).convert('RGB')\n",
        "        img = img.resize((img_w,img_h))\n",
        "        X.append(np.asarray(img))\n",
        "        y.append(1)\n",
        "    except UnidentifiedImageError:\n",
        "        pass"
      ],
      "metadata": {
        "id": "zSGlqoXrCzYA"
      },
      "execution_count": 9,
      "outputs": []
    },
    {
      "cell_type": "code",
      "source": [
        "for i in Proliferate:\n",
        "    try:\n",
        "        img = Image.open(\"/content/drive/MyDrive/Original Images/archive/Proliferate DR/\" + i).convert('RGB')\n",
        "        img = img.resize((img_w,img_h))\n",
        "        X.append(np.asarray(img))\n",
        "        y.append(2)\n",
        "    except UnidentifiedImageError:\n",
        "        pass"
      ],
      "metadata": {
        "id": "4HT-6j0sC6KS"
      },
      "execution_count": 10,
      "outputs": []
    },
    {
      "cell_type": "code",
      "source": [
        "for i in Severe:\n",
        "    try:\n",
        "        img = Image.open(\"/content/drive/MyDrive/Original Images/archive/Severe DR/\" + i).convert('RGB')\n",
        "        img = img.resize((img_w,img_h))\n",
        "        X.append(np.asarray(img))\n",
        "        y.append(2)\n",
        "    except UnidentifiedImageError:\n",
        "        pass"
      ],
      "metadata": {
        "id": "m6oCVo7XC94B"
      },
      "execution_count": 11,
      "outputs": []
    },
    {
      "cell_type": "code",
      "source": [
        "X = np.asarray(X)\n",
        "y = np.asarray(y)\n",
        "print(X.shape, y.shape)"
      ],
      "metadata": {
        "colab": {
          "base_uri": "https://localhost:8080/"
        },
        "id": "jdWIgv4BE7sL",
        "outputId": "86245526-44a5-4108-ce7f-e1e640410763"
      },
      "execution_count": 12,
      "outputs": [
        {
          "output_type": "stream",
          "name": "stdout",
          "text": [
            "(2750, 225, 225, 3) (2750,)\n"
          ]
        }
      ]
    },
    {
      "cell_type": "code",
      "source": [
        "x = X.astype('float32')\n",
        "x /= 255"
      ],
      "metadata": {
        "id": "z90HzXNQE80-"
      },
      "execution_count": 13,
      "outputs": []
    },
    {
      "cell_type": "code",
      "source": [
        "num_classes = 3\n",
        "\n",
        "labels = keras.utils.to_categorical(y, num_classes)\n",
        "print(labels[0])"
      ],
      "metadata": {
        "colab": {
          "base_uri": "https://localhost:8080/"
        },
        "id": "wi_GgR4QE-Kn",
        "outputId": "193f6d75-e308-4d12-bc76-caaf8a2b0a4e"
      },
      "execution_count": 14,
      "outputs": [
        {
          "output_type": "stream",
          "name": "stdout",
          "text": [
            "[1. 0. 0.]\n"
          ]
        }
      ]
    },
    {
      "cell_type": "code",
      "source": [
        "x_train1, x_test, y_train1, y_test = train_test_split(x, labels, test_size = 0.1, random_state=5)\n",
        "x_train,x_val,y_train,y_val=train_test_split(x_train1,y_train1,test_size=0.1,random_state=5)\n",
        "\n",
        "print('Number of train: {}'.format(len(x_train)))\n",
        "print('Number of validation: {}'.format(len(x_val)))\n",
        "print('Number of test: {}'.format(len(x_test)))"
      ],
      "metadata": {
        "colab": {
          "base_uri": "https://localhost:8080/"
        },
        "id": "7iUqY5VTE_he",
        "outputId": "27c77d07-5e3b-4874-dd41-c93a4d680195"
      },
      "execution_count": 15,
      "outputs": [
        {
          "output_type": "stream",
          "name": "stdout",
          "text": [
            "Number of train: 2227\n",
            "Number of validation: 248\n",
            "Number of test: 275\n"
          ]
        }
      ]
    },
    {
      "cell_type": "code",
      "source": [
        "datagen = ImageDataGenerator(\n",
        "    featurewise_center=False,\n",
        "    samplewise_center=False,\n",
        "    featurewise_std_normalization=False,\n",
        "    samplewise_std_normalization=False,\n",
        "    zca_whitening=False,\n",
        "    rotation_range=20.,\n",
        "    width_shift_range=0.5,\n",
        "    height_shift_range=0.5,\n",
        "    shear_range=30.,\n",
        "    zoom_range=0.,\n",
        "    channel_shift_range=0.,\n",
        "    fill_mode='nearest',\n",
        "    cval=0.,\n",
        "    horizontal_flip=0.2,\n",
        "    vertical_flip=0.2,\n",
        "    rescale=None)\n",
        "\n",
        "datagen.fit(x_train)"
      ],
      "metadata": {
        "id": "I66UBl5FFAjz"
      },
      "execution_count": 16,
      "outputs": []
    },
    {
      "cell_type": "code",
      "source": [
        "base_model = tf.keras.applications.InceptionV3(input_shape=(225,225,3),include_top=False,weights=\"imagenet\")"
      ],
      "metadata": {
        "colab": {
          "base_uri": "https://localhost:8080/"
        },
        "id": "mdoI_-eUFDhY",
        "outputId": "0bf51c5a-a495-45ed-bc14-46d92da6955c"
      },
      "execution_count": 17,
      "outputs": [
        {
          "output_type": "stream",
          "name": "stdout",
          "text": [
            "Downloading data from https://storage.googleapis.com/tensorflow/keras-applications/inception_v3/inception_v3_weights_tf_dim_ordering_tf_kernels_notop.h5\n",
            "87910968/87910968 [==============================] - 0s 0us/step\n"
          ]
        }
      ]
    },
    {
      "cell_type": "code",
      "source": [
        "for layer in base_model.layers[:-10]:\n",
        "    layer.trainable=False"
      ],
      "metadata": {
        "id": "74S0sQH6FKUO"
      },
      "execution_count": 18,
      "outputs": []
    },
    {
      "cell_type": "code",
      "source": [
        "model=Sequential()\n",
        "model.add(base_model)\n",
        "model.add(Dropout(0.2))\n",
        "model.add(Flatten())\n",
        "model.add(Dense(128, activation='relu'))\n",
        "model.add(Dense(128, activation='relu'))\n",
        "model.add(Dense(3, activation='softmax'))\n",
        "model.summary()"
      ],
      "metadata": {
        "colab": {
          "base_uri": "https://localhost:8080/"
        },
        "id": "f1dM8jmzFMEs",
        "outputId": "33985cc4-e922-4aa3-cf96-b58d64146268"
      },
      "execution_count": 19,
      "outputs": [
        {
          "output_type": "stream",
          "name": "stdout",
          "text": [
            "Model: \"sequential\"\n",
            "_________________________________________________________________\n",
            " Layer (type)                Output Shape              Param #   \n",
            "=================================================================\n",
            " inception_v3 (Functional)   (None, 5, 5, 2048)        21802784  \n",
            "                                                                 \n",
            " dropout (Dropout)           (None, 5, 5, 2048)        0         \n",
            "                                                                 \n",
            " flatten (Flatten)           (None, 51200)             0         \n",
            "                                                                 \n",
            " dense (Dense)               (None, 128)               6553728   \n",
            "                                                                 \n",
            " dense_1 (Dense)             (None, 128)               16512     \n",
            "                                                                 \n",
            " dense_2 (Dense)             (None, 3)                 387       \n",
            "                                                                 \n",
            "=================================================================\n",
            "Total params: 28373411 (108.24 MB)\n",
            "Trainable params: 6570819 (25.07 MB)\n",
            "Non-trainable params: 21802592 (83.17 MB)\n",
            "_________________________________________________________________\n"
          ]
        }
      ]
    },
    {
      "cell_type": "code",
      "source": [
        "def f1_score(y_true, y_pred):\n",
        "    true_positives = K.sum(K.round(K.clip(y_true * y_pred, 0, 1)))\n",
        "    possible_positives = K.sum(K.round(K.clip(y_true, 0, 1)))\n",
        "    predicted_positives = K.sum(K.round(K.clip(y_pred, 0, 1)))\n",
        "    precision = true_positives / (predicted_positives + K.epsilon())\n",
        "    recall = true_positives / (possible_positives + K.epsilon())\n",
        "    f1_val = 3*(precision*recall)/(precision+recall+K.epsilon())\n",
        "    return f1_val"
      ],
      "metadata": {
        "id": "SqcBVzwqFOAS"
      },
      "execution_count": 21,
      "outputs": []
    },
    {
      "cell_type": "code",
      "source": [
        "METRICS = [\n",
        "      tf.keras.metrics.CategoricalAccuracy(name='accuracy'),\n",
        "      tf.keras.metrics.Precision(name='precision'),\n",
        "      tf.keras.metrics.Recall(name='recall'),\n",
        "      tf.keras.metrics.AUC(name='auc'),\n",
        "        f1_score,\n",
        "]"
      ],
      "metadata": {
        "id": "wKZ_ly72FT7f"
      },
      "execution_count": 22,
      "outputs": []
    },
    {
      "cell_type": "code",
      "source": [
        "lrd = ReduceLROnPlateau(monitor = 'recall',patience = 10,verbose = 1,factor = 0.50, min_lr = 1e-6)\n",
        "mcp = ModelCheckpoint('model.h5')\n",
        "es = EarlyStopping(verbose=1, patience=10)"
      ],
      "metadata": {
        "id": "1FWpY43hFVzH"
      },
      "execution_count": 23,
      "outputs": []
    },
    {
      "cell_type": "code",
      "source": [
        "model.compile(optimizer='Adam', loss = tf.keras.losses.CategoricalCrossentropy(),metrics=METRICS)\n"
      ],
      "metadata": {
        "id": "Et8sh170FXVa"
      },
      "execution_count": 24,
      "outputs": []
    },
    {
      "cell_type": "code",
      "source": [
        "%time\n",
        "history=model.fit(x_train,y_train,validation_data=(x_val,y_val),epochs = 20,verbose = 1,callbacks=[lrd,mcp,es])"
      ],
      "metadata": {
        "colab": {
          "base_uri": "https://localhost:8080/"
        },
        "id": "y4QJEM-cFYxn",
        "outputId": "05ce8104-5a6d-468b-b77e-18f9759d5ceb"
      },
      "execution_count": 25,
      "outputs": [
        {
          "output_type": "stream",
          "name": "stdout",
          "text": [
            "CPU times: user 0 ns, sys: 45 µs, total: 45 µs\n",
            "Wall time: 90.4 µs\n",
            "Epoch 1/20\n",
            "70/70 [==============================] - 23s 267ms/step - loss: 1.8384 - accuracy: 0.6866 - precision: 0.6912 - recall: 0.6785 - auc: 0.8401 - f1_score: 1.0247 - val_loss: 0.6087 - val_accuracy: 0.7823 - val_precision: 0.7878 - val_recall: 0.7782 - val_auc: 0.9293 - val_f1_score: 1.1755 - lr: 0.0010\n",
            "Epoch 2/20\n",
            "70/70 [==============================] - 17s 237ms/step - loss: 0.4332 - accuracy: 0.8307 - precision: 0.8327 - recall: 0.8267 - auc: 0.9477 - f1_score: 1.2442 - val_loss: 0.9454 - val_accuracy: 0.7863 - val_precision: 0.7895 - val_recall: 0.7863 - val_auc: 0.9021 - val_f1_score: 1.1850 - lr: 0.0010\n",
            "Epoch 3/20\n",
            "70/70 [==============================] - 17s 238ms/step - loss: 0.3793 - accuracy: 0.8496 - precision: 0.8508 - recall: 0.8478 - auc: 0.9608 - f1_score: 1.2747 - val_loss: 0.6583 - val_accuracy: 0.7903 - val_precision: 0.7903 - val_recall: 0.7903 - val_auc: 0.9336 - val_f1_score: 1.1816 - lr: 0.0010\n",
            "Epoch 4/20\n",
            "70/70 [==============================] - 16s 236ms/step - loss: 0.2508 - accuracy: 0.9026 - precision: 0.9028 - recall: 0.9008 - auc: 0.9810 - f1_score: 1.3521 - val_loss: 0.5769 - val_accuracy: 0.8105 - val_precision: 0.8138 - val_recall: 0.8105 - val_auc: 0.9324 - val_f1_score: 1.2192 - lr: 0.0010\n",
            "Epoch 5/20\n",
            "70/70 [==============================] - 17s 236ms/step - loss: 0.1716 - accuracy: 0.9268 - precision: 0.9272 - recall: 0.9259 - auc: 0.9908 - f1_score: 1.3900 - val_loss: 0.6135 - val_accuracy: 0.8306 - val_precision: 0.8306 - val_recall: 0.8306 - val_auc: 0.9427 - val_f1_score: 1.2461 - lr: 0.0010\n",
            "Epoch 6/20\n",
            "70/70 [==============================] - 17s 240ms/step - loss: 0.1917 - accuracy: 0.9196 - precision: 0.9196 - recall: 0.9196 - auc: 0.9892 - f1_score: 1.3801 - val_loss: 0.6238 - val_accuracy: 0.8145 - val_precision: 0.8145 - val_recall: 0.8145 - val_auc: 0.9406 - val_f1_score: 1.2227 - lr: 0.0010\n",
            "Epoch 7/20\n",
            "70/70 [==============================] - 17s 239ms/step - loss: 0.0970 - accuracy: 0.9668 - precision: 0.9668 - recall: 0.9668 - auc: 0.9971 - f1_score: 1.4504 - val_loss: 0.7657 - val_accuracy: 0.8145 - val_precision: 0.8145 - val_recall: 0.8145 - val_auc: 0.9329 - val_f1_score: 1.2187 - lr: 0.0010\n",
            "Epoch 8/20\n",
            "70/70 [==============================] - 17s 237ms/step - loss: 0.0926 - accuracy: 0.9695 - precision: 0.9695 - recall: 0.9695 - auc: 0.9971 - f1_score: 1.4545 - val_loss: 0.8007 - val_accuracy: 0.8065 - val_precision: 0.8065 - val_recall: 0.8065 - val_auc: 0.9298 - val_f1_score: 1.2090 - lr: 0.0010\n",
            "Epoch 9/20\n",
            "70/70 [==============================] - 17s 237ms/step - loss: 0.0755 - accuracy: 0.9753 - precision: 0.9753 - recall: 0.9749 - auc: 0.9977 - f1_score: 1.4619 - val_loss: 0.8172 - val_accuracy: 0.7944 - val_precision: 0.7944 - val_recall: 0.7944 - val_auc: 0.9204 - val_f1_score: 1.1895 - lr: 0.0010\n",
            "Epoch 10/20\n",
            "70/70 [==============================] - 17s 240ms/step - loss: 0.0996 - accuracy: 0.9713 - precision: 0.9713 - recall: 0.9713 - auc: 0.9956 - f1_score: 1.4567 - val_loss: 0.9104 - val_accuracy: 0.7863 - val_precision: 0.7863 - val_recall: 0.7863 - val_auc: 0.9132 - val_f1_score: 1.1816 - lr: 0.0010\n",
            "Epoch 11/20\n",
            "70/70 [==============================] - ETA: 0s - loss: 0.1206 - accuracy: 0.9614 - precision: 0.9614 - recall: 0.9614 - auc: 0.9942 - f1_score: 1.4424\n",
            "Epoch 11: ReduceLROnPlateau reducing learning rate to 0.0005000000237487257.\n",
            "70/70 [==============================] - 17s 241ms/step - loss: 0.1206 - accuracy: 0.9614 - precision: 0.9614 - recall: 0.9614 - auc: 0.9942 - f1_score: 1.4424 - val_loss: 1.2317 - val_accuracy: 0.7016 - val_precision: 0.7016 - val_recall: 0.7016 - val_auc: 0.8758 - val_f1_score: 1.0547 - lr: 0.0010\n",
            "Epoch 12/20\n",
            "70/70 [==============================] - 17s 237ms/step - loss: 0.0858 - accuracy: 0.9686 - precision: 0.9686 - recall: 0.9686 - auc: 0.9975 - f1_score: 1.4531 - val_loss: 0.8711 - val_accuracy: 0.8226 - val_precision: 0.8226 - val_recall: 0.8226 - val_auc: 0.9166 - val_f1_score: 1.2363 - lr: 5.0000e-04\n",
            "Epoch 13/20\n",
            "70/70 [==============================] - 17s 240ms/step - loss: 0.0384 - accuracy: 0.9883 - precision: 0.9888 - recall: 0.9883 - auc: 0.9995 - f1_score: 1.4829 - val_loss: 0.8279 - val_accuracy: 0.8185 - val_precision: 0.8185 - val_recall: 0.8185 - val_auc: 0.9263 - val_f1_score: 1.2227 - lr: 5.0000e-04\n",
            "Epoch 14/20\n",
            "70/70 [==============================] - 17s 239ms/step - loss: 0.0319 - accuracy: 0.9919 - precision: 0.9919 - recall: 0.9919 - auc: 0.9990 - f1_score: 1.4879 - val_loss: 0.9942 - val_accuracy: 0.8185 - val_precision: 0.8185 - val_recall: 0.8185 - val_auc: 0.9135 - val_f1_score: 1.2266 - lr: 5.0000e-04\n",
            "Epoch 14: early stopping\n"
          ]
        }
      ]
    },
    {
      "cell_type": "code",
      "source": [
        "acc = history.history['recall']\n",
        "val_acc = history.history['val_recall']\n",
        "loss = history.history['loss']\n",
        "val_loss = history.history['val_loss']\n",
        "epochs_range = range(len(history.history['val_loss']))\n",
        "plt.figure(figsize=(15, 10))\n",
        "plt.subplot(1, 2, 1)\n",
        "plt.plot(epochs_range, acc, label='Training Recall')\n",
        "plt.plot(epochs_range, val_acc, label='Validation Recall')\n",
        "plt.legend(loc='lower right')\n",
        "plt.title('Training and Validation Recall')\n",
        "plt.subplot(1, 2, 2)\n",
        "plt.plot(epochs_range, loss, label='Training Loss')\n",
        "plt.plot(epochs_range, val_loss, label='Validation Loss')\n",
        "plt.legend(loc='upper right')\n",
        "plt.title('Training and Validation Loss')\n",
        "plt.show()"
      ],
      "metadata": {
        "colab": {
          "base_uri": "https://localhost:8080/",
          "height": 640
        },
        "id": "TUXZj7VFGxO6",
        "outputId": "fe59fccb-1b5e-4797-8926-3dfd44f2df64"
      },
      "execution_count": 26,
      "outputs": [
        {
          "output_type": "display_data",
          "data": {
            "text/plain": [
              "<Figure size 1500x1000 with 2 Axes>"
            ],
            "image/png": "[encoded data removed]"
          },
          "metadata": {}
        }
      ]
    },
    {
      "cell_type": "code",
      "source": [
        "def plot_confusion_matrix(cm, classes, normalize=True, title='Confusion matrix', cmap=plt.cm.Blues):\n",
        "\n",
        "    plt.figure(figsize=(10,10))\n",
        "    plt.imshow(cm, interpolation='nearest', cmap=cmap)\n",
        "    plt.title(title)\n",
        "    plt.colorbar()\n",
        "    tick_marks = np.arange(len(classes))\n",
        "    plt.xticks(tick_marks, classes, rotation=45)\n",
        "    plt.yticks(tick_marks, classes)\n",
        "    if normalize:\n",
        "        cm = cm.astype('float') / cm.sum(axis=1)[:, np.newaxis]\n",
        "        cm = np.around(cm, decimals=2)\n",
        "        cm[np.isnan(cm)] = 0.0\n",
        "    thresh = cm.max() / 2.\n",
        "    for i, j in itertools.product(range(cm.shape[0]), range(cm.shape[1])):\n",
        "        plt.text(j, i, cm[i, j],\n",
        "                 horizontalalignment=\"center\",\n",
        "                 color=\"white\" if cm[i, j] > thresh else \"black\")\n",
        "    plt.tight_layout()\n",
        "    plt.ylabel('True label')\n",
        "    plt.xlabel('Predicted label')"
      ],
      "metadata": {
        "id": "qSrzLYTfG1c2"
      },
      "execution_count": 27,
      "outputs": []
    },
    {
      "cell_type": "code",
      "source": [
        "y_pred = (model.predict(x_test) > 0.5).astype(\"int32\")\n",
        "\n",
        "y_test_c = np.argmax(y_test, axis=1)\n",
        "target_names = [\"Healty\", \"Caution\", \"Severe\"]\n",
        "\n",
        "Y_pred = np.argmax(model.predict(x_test),axis=1)\n",
        "print('Confusion Matrix')\n",
        "cm = confusion_matrix(y_test_c, Y_pred)\n",
        "plot_confusion_matrix(cm, target_names, normalize=False, title='Confusion Matrix')\n",
        "\n",
        "print('Classification Report')\n",
        "print(classification_report(y_test_c, Y_pred, target_names=target_names))"
      ],
      "metadata": {
        "colab": {
          "base_uri": "https://localhost:8080/",
          "height": 1000
        },
        "id": "4iLQqrEeG26v",
        "outputId": "82d6dd67-0528-499b-fed5-35b084de5744"
      },
      "execution_count": 28,
      "outputs": [
        {
          "output_type": "stream",
          "name": "stdout",
          "text": [
            "9/9 [==============================] - 3s 188ms/step\n",
            "9/9 [==============================] - 2s 184ms/step\n",
            "Confusion Matrix\n",
            "Classification Report\n",
            "              precision    recall  f1-score   support\n",
            "\n",
            "      Healty       0.94      0.96      0.95        95\n",
            "     Caution       0.77      0.95      0.85       129\n",
            "      Severe       0.94      0.33      0.49        51\n",
            "\n",
            "    accuracy                           0.84       275\n",
            "   macro avg       0.88      0.75      0.76       275\n",
            "weighted avg       0.86      0.84      0.82       275\n",
            "\n"
          ]
        },
        {
          "output_type": "display_data",
          "data": {
            "text/plain": [
              "<Figure size 1000x1000 with 2 Axes>"
            ],
            "image/png": "[encoded data removed]"
          },
          "metadata": {}
        }
      ]
    },
    {
      "cell_type": "code",
      "source": [
        "model.save('CNN DR2.h5')"
      ],
      "metadata": {
        "id": "AwJVlB9aHDvc"
      },
      "execution_count": 29,
      "outputs": []
    },
    {
      "cell_type": "code",
      "source": [
        "from google.colab import files\n",
        "from tensorflow.keras.models import load_model\n",
        "from tensorflow.keras.preprocessing import image\n",
        "import numpy as np\n",
        "import tensorflow as tf\n",
        "from tensorflow.keras import backend as K\n",
        "\n",
        "# Define the custom f1_score function (if needed)\n",
        "def f1_score(y_true, y_pred):\n",
        "    y_pred = K.round(y_pred)\n",
        "    tp = K.sum(K.cast(y_true * y_pred, 'float'), axis=0)\n",
        "    tn = K.sum(K.cast((1 - y_true) * (1 - y_pred), 'float'), axis=0)\n",
        "    fp = K.sum(K.cast((1 - y_true) * y_pred, 'float'), axis=0)\n",
        "    fn = K.sum(K.cast(y_true * (1 - y_pred), 'float'), axis=0)\n",
        "\n",
        "    p = tp / (tp + fp + K.epsilon())\n",
        "    r = tp / (tp + fn + K.epsilon())\n",
        "\n",
        "    f1 = 2 * p * r / (p + r + K.epsilon())\n",
        "    f1 = tf.where(tf.math.is_nan(f1), tf.zeros_like(f1), f1)\n",
        "    return K.mean(f1)\n",
        "\n",
        "# Step 1: Upload the images you want to classify\n",
        "uploaded = files.upload()\n",
        "\n",
        "# Step 2: Load the model from the directory, including the custom metric\n",
        "model = load_model('/content/CNN DR2.h5', custom_objects={'f1_score': f1_score})\n",
        "\n",
        "# Step 3: Loop over the uploaded images, preprocess, and predict\n",
        "for img_name in uploaded.keys():\n",
        "    # Load and preprocess the image\n",
        "    img = image.load_img(img_name, target_size=(225, 225))  # Adjust target_size to the model's expected input size\n",
        "    img_array = image.img_to_array(img)\n",
        "    img_array = np.expand_dims(img_array, axis=0)\n",
        "    img_array = img_array / 255.0  # Normalize the image if necessary\n",
        "\n",
        "    # Step 4: Make a prediction\n",
        "    predictions = model.predict(img_array)\n",
        "\n",
        "    # Step 5: Interpret the result\n",
        "    class_labels = ['Healthy', 'Caution', 'Severe']  # Updated to match your three classes\n",
        "    predicted_class = np.argmax(predictions, axis=1)\n",
        "    print(f'Image: {img_name} -> Predicted class: {class_labels[predicted_class[0]]}')\n"
      ],
      "metadata": {
        "colab": {
          "base_uri": "https://localhost:8080/",
          "height": 246
        },
        "id": "WkIRq32CHHI_",
        "outputId": "8a4d9f5e-66e5-4669-e2f7-f3b48bba1aa0"
      },
      "execution_count": 41,
      "outputs": [
        {
          "output_type": "display_data",
          "data": {
            "text/plain": [
              "<IPython.core.display.HTML object>"
            ],
            "text/html": [
              "\n",
              "     <input type=\"file\" id=\"files-22fac309-d1e2-4855-8f41-436a2240fa9a\" name=\"files[]\" multiple disabled\n",
              "        style=\"border:none\" />\n",
              "     <output id=\"result-22fac309-d1e2-4855-8f41-436a2240fa9a\">\n",
              "      Upload widget is only available when the cell has been executed in the\n",
              "      current browser session. Please rerun this cell to enable.\n",
              "      </output>\n",
              "      <script>// Copyright 2017 Google LLC\n",
              "//\n",
              "// Licensed under the Apache License, Version 2.0 (the \"License\");\n",
              "// you may not use this file except in compliance with the License.\n",
              "// You may obtain a copy of the License at\n",
              "//\n",
              "//      http://www.apache.org/licenses/LICENSE-2.0\n",
              "//\n",
              "// Unless required by applicable law or agreed to in writing, software\n",
              "// distributed under the License is distributed on an \"AS IS\" BASIS,\n",
              "// WITHOUT WARRANTIES OR CONDITIONS OF ANY KIND, either express or implied.\n",
              "// See the License for the specific language governing permissions and\n",
              "// limitations under the License.\n",
              "\n",
              "/**\n",
              " * @fileoverview Helpers for google.colab Python module.\n",
              " */\n",
              "(function(scope) {\n",
              "function span(text, styleAttributes = {}) {\n",
              "  const element = document.createElement('span');\n",
              "  element.textContent = text;\n",
              "  for (const key of Object.keys(styleAttributes)) {\n",
              "    element.style[key] = styleAttributes[key];\n",
              "  }\n",
              "  return element;\n",
              "}\n",
              "\n",
              "// Max number of bytes which will be uploaded at a time.\n",
              "const MAX_PAYLOAD_SIZE = 100 * 1024;\n",
              "\n",
              "function _uploadFiles(inputId, outputId) {\n",
              "  const steps = uploadFilesStep(inputId, outputId);\n",
              "  const outputElement = document.getElementById(outputId);\n",
              "  // Cache steps on the outputElement to make it available for the next call\n",
              "  // to uploadFilesContinue from Python.\n",
              "  outputElement.steps = steps;\n",
              "\n",
              "  return _uploadFilesContinue(outputId);\n",
              "}\n",
              "\n",
              "// This is roughly an async generator (not supported in the browser yet),\n",
              "// where there are multiple asynchronous steps and the Python side is going\n",
              "// to poll for completion of each step.\n",
              "// This uses a Promise to block the python side on completion of each step,\n",
              "// then passes the result of the previous step as the input to the next step.\n",
              "function _uploadFilesContinue(outputId) {\n",
              "  const outputElement = document.getElementById(outputId);\n",
              "  const steps = outputElement.steps;\n",
              "\n",
              "  const next = steps.next(outputElement.lastPromiseValue);\n",
              "  return Promise.resolve(next.value.promise).then((value) => {\n",
              "    // Cache the last promise value to make it available to the next\n",
              "    // step of the generator.\n",
              "    outputElement.lastPromiseValue = value;\n",
              "    return next.value.response;\n",
              "  });\n",
              "}\n",
              "\n",
              "/**\n",
              " * Generator function which is called between each async step of the upload\n",
              " * process.\n",
              " * @param {string} inputId Element ID of the input file picker element.\n",
              " * @param {string} outputId Element ID of the output display.\n",
              " * @return {!Iterable<!Object>} Iterable of next steps.\n",
              " */\n",
              "function* uploadFilesStep(inputId, outputId) {\n",
              "  const inputElement = document.getElementById(inputId);\n",
              "  inputElement.disabled = false;\n",
              "\n",
              "  const outputElement = document.getElementById(outputId);\n",
              "  outputElement.innerHTML = '';\n",
              "\n",
              "  const pickedPromise = new Promise((resolve) => {\n",
              "    inputElement.addEventListener('change', (e) => {\n",
              "      resolve(e.target.files);\n",
              "    });\n",
              "  });\n",
              "\n",
              "  const cancel = document.createElement('button');\n",
              "  inputElement.parentElement.appendChild(cancel);\n",
              "  cancel.textContent = 'Cancel upload';\n",
              "  const cancelPromise = new Promise((resolve) => {\n",
              "    cancel.onclick = () => {\n",
              "      resolve(null);\n",
              "    };\n",
              "  });\n",
              "\n",
              "  // Wait for the user to pick the files.\n",
              "  const files = yield {\n",
              "    promise: Promise.race([pickedPromise, cancelPromise]),\n",
              "    response: {\n",
              "      action: 'starting',\n",
              "    }\n",
              "  };\n",
              "\n",
              "  cancel.remove();\n",
              "\n",
              "  // Disable the input element since further picks are not allowed.\n",
              "  inputElement.disabled = true;\n",
              "\n",
              "  if (!files) {\n",
              "    return {\n",
              "      response: {\n",
              "        action: 'complete',\n",
              "      }\n",
              "    };\n",
              "  }\n",
              "\n",
              "  for (const file of files) {\n",
              "    const li = document.createElement('li');\n",
              "    li.append(span(file.name, {fontWeight: 'bold'}));\n",
              "    li.append(span(\n",
              "        `(${file.type || 'n/a'}) - ${file.size} bytes, ` +\n",
              "        `last modified: ${\n",
              "            file.lastModifiedDate ? file.lastModifiedDate.toLocaleDateString() :\n",
              "                                    'n/a'} - `));\n",
              "    const percent = span('0% done');\n",
              "    li.appendChild(percent);\n",
              "\n",
              "    outputElement.appendChild(li);\n",
              "\n",
              "    const fileDataPromise = new Promise((resolve) => {\n",
              "      const reader = new FileReader();\n",
              "      reader.onload = (e) => {\n",
              "        resolve(e.target.result);\n",
              "      };\n",
              "      reader.readAsArrayBuffer(file);\n",
              "    });\n",
              "    // Wait for the data to be ready.\n",
              "    let fileData = yield {\n",
              "      promise: fileDataPromise,\n",
              "      response: {\n",
              "        action: 'continue',\n",
              "      }\n",
              "    };\n",
              "\n",
              "    // Use a chunked sending to avoid message size limits. See b/62115660.\n",
              "    let position = 0;\n",
              "    do {\n",
              "      const length = Math.min(fileData.byteLength - position, MAX_PAYLOAD_SIZE);\n",
              "      const chunk = new Uint8Array(fileData, position, length);\n",
              "      position += length;\n",
              "\n",
              "      const base64 = btoa(String.fromCharCode.apply(null, chunk));\n",
              "      yield {\n",
              "        response: {\n",
              "          action: 'append',\n",
              "          file: file.name,\n",
              "          data: base64,\n",
              "        },\n",
              "      };\n",
              "\n",
              "      let percentDone = fileData.byteLength === 0 ?\n",
              "          100 :\n",
              "          Math.round((position / fileData.byteLength) * 100);\n",
              "      percent.textContent = `${percentDone}% done`;\n",
              "\n",
              "    } while (position < fileData.byteLength);\n",
              "  }\n",
              "\n",
              "  // All done.\n",
              "  yield {\n",
              "    response: {\n",
              "      action: 'complete',\n",
              "    }\n",
              "  };\n",
              "}\n",
              "\n",
              "scope.google = scope.google || {};\n",
              "scope.google.colab = scope.google.colab || {};\n",
              "scope.google.colab._files = {\n",
              "  _uploadFiles,\n",
              "  _uploadFilesContinue,\n",
              "};\n",
              "})(self);\n",
              "</script> "
            ]
          },
          "metadata": {}
        },
        {
          "output_type": "stream",
          "name": "stdout",
          "text": [
            "Saving Healthy.png to Healthy (2).png\n",
            "Saving Moderate_DR_2.png to Moderate_DR_2.png\n",
            "Saving Severe DR_5.png to Severe DR_5 (3).png\n",
            "1/1 [==============================] - 1s 1s/step\n",
            "Image: Healthy (2).png -> Predicted class: Healthy\n",
            "1/1 [==============================] - 0s 61ms/step\n",
            "Image: Moderate_DR_2.png -> Predicted class: Caution\n",
            "1/1 [==============================] - 0s 61ms/step\n",
            "Image: Severe DR_5 (3).png -> Predicted class: Severe\n"
          ]
        }
      ]
    }
  ]
}